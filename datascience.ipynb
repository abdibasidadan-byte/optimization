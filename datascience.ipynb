
Predictive Analysis of Customer Behavior in E-Commerce: Prediction of Average Order Value and Identification of High-Value Customers

Description:
This data analysis project explores customer behavior on an e-commerce platform using a dataset containing key metrics such as session duration, product detail views, app transactions, add-to-cart rate per session, discount rate per visited products, credit card info saving, average order value ("avg order value"), and a high-value customer indicator ("high_value_customer").
The code is structured in several steps:
Data Preparation: Loading from the clipboard, cleaning (replacing commas with periods for decimals), numeric conversion, and encoding of categorical variables (e.g., yes/no via LabelEncoder).
Regression Modeling: Use of an XGBoost model to predict average order value, with evaluation via RMSE and R² on a test set (30% of the data). Visualizations include a scatter plot of predictions vs. actual values, a correlation matrix, a boxplot of average basket by card saving, and a histogram of prediction errors.
Classification Modeling: Logistic regression with L2 regularization to identify high-value customers, based on selected features (session duration, product views, etc.). Evaluation via ROC-AUC score and ROC curve.

data : https://github.com/Gayathri-Selvaganapathi/customer_churn_prediction/blob/main/data.csv
Acknowledgment to Gayathri-Selvaganapathi

# bash
#python -m pip install --upgrade pip
#pip install xgboost

import pandas as pd
import numpy as np
from io import StringIO
from sklearn.preprocessing import LabelEncoder

#
raw_data = pd.read_clipboard(sep=";")

# 
for col in raw_data.columns:
    if raw_data[col].dtype == "object":
        raw_data[col] = raw_data[col].str.replace(",", ".", regex=False)

# 
for col in raw_data.columns:
    try:
        raw_data[col] = pd.to_numeric(raw_data[col])
    except:
        pass

# 
encoder = LabelEncoder()
for col in raw_data.select_dtypes(include=["object"]).columns:
    raw_data[col] = encoder.fit_transform(raw_data[col])

print(raw_data.dtypes)
print(raw_data.head())



import pandas as pd
import numpy as np
from sklearn.model_selection import train_test_split
from sklearn.metrics import mean_squared_error, r2_score
from xgboost import XGBRegressor
import numpy as np

#
X = raw_data.drop(columns=["avg order value", "user id"])  # on enlève la cible + identifiant
y = raw_data["avg order value"]

# 
X_train, X_test, y_train, y_test = train_test_split(
    X, y, test_size=0.3, random_state=42
)

# 
model = XGBRegressor(
    n_estimators=200,
    learning_rate=0.1,
    max_depth=5,
    subsample=0.8,
    colsample_bytree=0.8,
    random_state=42
)

#
model.fit(X_train, y_train)

# 
y_pred = model.predict(X_test)

# 
rmse = np.sqrt(mean_squared_error(y_test, y_pred))
r2 = r2_score(y_test, y_pred)
print(f"RMSE : {rmse:.2f}")
print(f"R²   : {r2:.2f}")

import matplotlib.pyplot as plt
plt.scatter(y_test, y_pred, color="blue", alpha=0.7)
plt.plot([y_test.min(), y_test.max()], [y_test.min(), y_test.max()], "r--")
plt.xlabel("Actual Values")
plt.ylabel("Predicted Values")
plt.title("Prédiction de avg order value avec XGBoost")
plt.show()

import seaborn as sns
plt.figure(figsize=(12,10))
sns.heatmap(raw_data.corr(), annot=True, fmt=".2f", cmap="coolwarm")
plt.title("Correlation Matrix")
plt.show()

sns.boxplot(x="credit card info save", y="avg order value", data=raw_data)
plt.xlabel("Saved Card")
plt.ylabel("Average Order Value")
plt.show()

errors = y_test - y_pred
plt.hist(errors, bins=10, color="skyblue", edgecolor="black")
plt.xlabel("Prediction Error")
plt.ylabel("Number of Customers")
plt.title("Distribution of Prediction Errors")
plt.show()

import pandas as pd
from sklearn.model_selection import train_test_split
from sklearn.preprocessing import StandardScaler
from sklearn.linear_model import LogisticRegression
from sklearn.metrics import roc_auc_score, roc_curve
import matplotlib.pyplot as plt

# 
X = raw_data[['session duration', 'total product detail views',
              'app transactions', 'add to cart per session',
              'discount rate per visited products']]

y = raw_data['high_value_customer']

# 
scaler = StandardScaler()
X_scaled = scaler.fit_transform(X)

# Séparation train/test
X_train, X_test, y_train, y_test = train_test_split(
    X_scaled, y, test_size=0.3, random_state=42
)


clf = LogisticRegression(penalty='l2', solver='liblinear', max_iter=1000)
clf.fit(X_train, y_train)

# 
y_prob = clf.predict_proba(X_test)[:, 1]

# 
roc_auc = roc_auc_score(y_test, y_prob)
print(f"ROC-AUC (Logistic Regression with L2): {roc_auc:.3f}")

# 
fpr, tpr, thresholds = roc_curve(y_test, y_prob)
plt.figure(figsize=(6,6))
plt.plot(fpr, tpr, label=f"Logistic Regression (AUC = {roc_auc:.3f})")
plt.plot([0,1], [0,1], 'k--', label="Random")
plt.xlabel("False Positive Rate")
plt.ylabel("True Positive Rate")
plt.title("ROC Curve - Logistic Regression with L2 Regularization")
plt.legend(loc="lower right")
plt.show()


# IN R


data <- read.delim("clipboard", sep = ";", header = TRUE)
names(data)
#
data$discount.rate.per.visited.products <- as.numeric(gsub(",", ".", data$discount.rate.per.visited.products))
data$product.detail.view.per.app.session <- as.numeric(gsub(",", ".", data$product.detail.view.per.app.session))
data$add.to.cart.per.session <- as.numeric(gsub(",", ".", data$add.to.cart.per.session))
data$avg.order.value <- as.numeric(gsub(",", ".",  data$avg.order.value ))
data <- data[, !names(data) %in% c("credit.card.info.save", "push.status", "user.id")]
str(data)
#

library(gclus)
require(Hmisc)
library(psych)
library(corrplot)

col1 <- colorRampPalette(c("#7F0000", "red", "#FF7F00", "yellow", "white", "cyan", "#007FFF", "blue", "#00007F"))
col2 <- colorRampPalette(c("#67001F", "#B2182B", "#D6604D", "#F4A582", "#FDDBC7", "#FFFFFF", "#D1E5F0", "#92C5DE", "#4393C3", "#2166AC", "#053061"))
col3 <- colorRampPalette(c("red", "white", "blue")) 
col4 <- colorRampPalette(c("#7F0000", "red", "#FF7F00", "yellow", "#7FFF7F", "cyan", "#007FFF", "blue", "#00007F"))
col5<- colorRampPalette(c("blue","cyan","green","white","yellow", "orange", "red"))
whiteblack <- c("white", "black")


M = cor(data,method="pearson" )  
# M = cor(dat,method="pearson" , use="complete.obs")
res1 = cor.mtest(data, conf.level = 0.95)
M3 <- M
diag(M3) = NA
# full  upper
x11();corrplot(M,method = "square", order = 'hclust',tl.cex = 0.81,is.corr = TRUE,outline = FALSE,type="lower",tl.col="black", diag = FALSE, col=col1(200), hclust.method = 'ward.D2', addrect = 1 ,rect.col = 'black',p.mat = res1$p, low = res1$lowCI, upp = res1$uppCI,plotCI = 'n',pch.cex = 5.3,pch.col = "grey")

res1 <- cor.mtest(cor(data,use="complete.obs", method="pearson"), conf.level = .95)
x11();corrplot(cor(data,use="complete.obs", method="pearson"), p.mat =res1$p, method = "color", type = "lower",
         sig.level = c(.001, .01, .05), pch.cex = 1.3,
         insig = "label_sig", pch.col = "white", order = "AOE",col = col4(10), tl.cex = 0.9 ,tl.col="black",tl.srt=90)
		 
cor.test(data[,5], data[,8], method="pearson", alternative="two.sided")




library(tidyverse)
library(hrbrthemes)
library(viridis)
library(plotly)
library(ggplot2)


ggplot(data, aes(x = session.duration, y = avg.order.value, 
                 color = factor(churn), size = desktop.sessions)) +
  geom_point(alpha = 0.7) +
  # Ajouter les droites de régression avec bandes de confiance
  geom_smooth(method = "lm", se = TRUE, aes(fill = factor(churn), group = factor(churn)), 
              alpha = 0.2, color = NA, show.legend = FALSE) +
  geom_smooth(method = "lm", se = FALSE, aes(group = factor(churn)), 
              size = 1.2, show.legend = FALSE) +
  scale_size(range = c(1, 12), name = "Sessions Desktop") +
  scale_color_manual(values = c("0" = "#0000FF", "1" = "#FF0000"),
                     labels = c("0" = "Non Churn", "1" = "Churn"),
                     name = "Statut Churn") +
  scale_fill_manual(values = c("0" = "grey70", "1" = "grey70")) +
  labs(title = "Relationship between Session Duration and Average Order Value",
       x = "Session Duration (minutes)",
       y = "Average Order Value",
       color = "Statut Churn") +
 theme_linedraw()+
  theme(
    legend.position = "bottom",
    legend.title = element_text(face = "bold", size = 12),
    legend.text = element_text(size = 11),
    axis.title = element_text(face = "bold", size = 12),
    axis.text = element_text(size = 11),
    plot.title = element_text(face = "bold", size = 14, hjust = 0.5),
    panel.grid.major = element_line(color = "grey90"),
    panel.grid.minor = element_line(color = "grey95")
  ) +
  guides(
    color = guide_legend(override.aes = list(size = 4)),
    size = guide_legend(title = "Sessions Desktop")
  )

#Abdi-Basid ADAN, 2025

